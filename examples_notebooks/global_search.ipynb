{
 "cells": [
  {
   "cell_type": "code",
   "execution_count": 1,
   "metadata": {
    "ExecuteTime": {
     "end_time": "2024-09-24T01:05:05.584710Z",
     "start_time": "2024-09-24T01:05:05.580761Z"
    }
   },
   "outputs": [],
   "source": [
    "# Copyright (c) 2024 Microsoft Corporation.\n",
    "# Licensed under the MIT License."
   ]
  },
  {
   "cell_type": "code",
   "execution_count": 2,
   "metadata": {},
   "outputs": [],
   "source": [
    "import os\n",
    "\n",
    "import pandas as pd\n",
    "import tiktoken\n",
    "\n",
    "from graphrag.query.indexer_adapters import (\n",
    "    read_indexer_communities,\n",
    "    read_indexer_entities,\n",
    "    read_indexer_reports,\n",
    ")\n",
    "from graphrag.query.llm.oai.chat_openai import ChatOpenAI\n",
    "from graphrag.query.llm.oai.typing import OpenaiApiType\n",
    "from graphrag.query.structured_search.global_search.community_context import (\n",
    "    GlobalCommunityContext,\n",
    ")\n",
    "from graphrag.query.structured_search.global_search.search import GlobalSearch"
   ]
  },
  {
   "cell_type": "markdown",
   "metadata": {},
   "source": [
    "## Global Search example\n",
    "\n",
    "Global search method generates answers by searching over all AI-generated community reports in a map-reduce fashion. This is a resource-intensive method, but often gives good responses for questions that require an understanding of the dataset as a whole (e.g. What are the most significant values of the herbs mentioned in this notebook?).\n",
    "\n",
    "We will first demonstrate how to run global search with fixed community level, followed by dynamic community selection."
   ]
  },
  {
   "cell_type": "markdown",
   "metadata": {},
   "source": [
    "### LLM setup"
   ]
  },
  {
   "cell_type": "code",
   "execution_count": 3,
   "metadata": {},
   "outputs": [],
   "source": [
    "api_key = os.environ[\"GRAPHRAG_LLM_API_KEY\"]\n",
    "api_base = os.environ[\"GRAPHRAG_LLM_API_BASE\"]\n",
    "api_version = os.environ[\"GRAPHRAG_LLM_API_VERSION\"]\n",
    "model = os.environ[\"GRAPHRAG_LLM_MODEL\"]\n",
    "\n",
    "llm = ChatOpenAI(\n",
    "    api_key=api_key,\n",
    "    model=model,\n",
    "    deployment_name=model,\n",
    "    api_base=api_base,\n",
    "    api_version=api_version,\n",
    "    api_type=OpenaiApiType.AzureOpenAI,  # OpenaiApiType.OpenAI or OpenaiApiType.AzureOpenAI\n",
    "    max_retries=20,\n",
    ")\n",
    "token_encoder = tiktoken.encoding_for_model(llm.model)"
   ]
  },
  {
   "cell_type": "markdown",
   "metadata": {},
   "source": [
    "### Load community reports as context for global search\n",
    "\n",
    "- Load all community reports in the `create_final_community_reports` table from the ire-indexing engine, to be used as context data for global search.\n",
    "- Load entities from the `create_final_nodes` and `create_final_entities` tables from the ire-indexing engine, to be used for calculating community weights for context ranking. Note that this is optional (if no entities are provided, we will not calculate community weights and only use the `rank` attribute in the community reports table for context ranking)\n",
    "- Load all communities in the `create_final_communites` table from the ire-indexing engine, to be used to reconstruct the community graph hierarchy for dynamic community selection."
   ]
  },
  {
   "cell_type": "code",
   "execution_count": 4,
   "metadata": {},
   "outputs": [
    {
     "data": {
      "text/html": [
       "<div>\n",
       "<style scoped>\n",
       "    .dataframe tbody tr th:only-of-type {\n",
       "        vertical-align: middle;\n",
       "    }\n",
       "\n",
       "    .dataframe tbody tr th {\n",
       "        vertical-align: top;\n",
       "    }\n",
       "\n",
       "    .dataframe thead th {\n",
       "        text-align: right;\n",
       "    }\n",
       "</style>\n",
       "<table border=\"1\" class=\"dataframe\">\n",
       "  <thead>\n",
       "    <tr style=\"text-align: right;\">\n",
       "      <th></th>\n",
       "      <th>community</th>\n",
       "      <th>full_content</th>\n",
       "      <th>level</th>\n",
       "      <th>rank</th>\n",
       "      <th>title</th>\n",
       "      <th>rank_explanation</th>\n",
       "      <th>summary</th>\n",
       "      <th>findings</th>\n",
       "      <th>full_content_json</th>\n",
       "      <th>id</th>\n",
       "    </tr>\n",
       "  </thead>\n",
       "  <tbody>\n",
       "    <tr>\n",
       "      <th>0</th>\n",
       "      <td>4</td>\n",
       "      <td># Dulce Base and the Paranormal Military Squad...</td>\n",
       "      <td>1</td>\n",
       "      <td>8.5</td>\n",
       "      <td>Dulce Base and the Paranormal Military Squad: ...</td>\n",
       "      <td>The impact severity rating is high due to the ...</td>\n",
       "      <td>The community is centered around Dulce Base, a...</td>\n",
       "      <td>[{'explanation': 'Dulce Base is the primary lo...</td>\n",
       "      <td>{\\n    \"title\": \"Dulce Base and the Paranormal...</td>\n",
       "      <td>6f8ba6b6-506e-46c1-83ce-982d59622554</td>\n",
       "    </tr>\n",
       "    <tr>\n",
       "      <th>1</th>\n",
       "      <td>5</td>\n",
       "      <td># Sam Rivera and the Paranormal Military Squad...</td>\n",
       "      <td>1</td>\n",
       "      <td>7.5</td>\n",
       "      <td>Sam Rivera and the Paranormal Military Squad a...</td>\n",
       "      <td>The impact severity rating is high due to the ...</td>\n",
       "      <td>The community is centered around Sam Rivera, a...</td>\n",
       "      <td>[{'explanation': 'Sam Rivera is recognized for...</td>\n",
       "      <td>{\\n    \"title\": \"Sam Rivera and the Paranormal...</td>\n",
       "      <td>418f4536-d673-4212-8a7c-ca1aac547d0f</td>\n",
       "    </tr>\n",
       "    <tr>\n",
       "      <th>2</th>\n",
       "      <td>0</td>\n",
       "      <td># Dulce Base and the Paranormal Military Squad...</td>\n",
       "      <td>0</td>\n",
       "      <td>8.5</td>\n",
       "      <td>Dulce Base and the Paranormal Military Squad Team</td>\n",
       "      <td>The impact severity rating is high due to the ...</td>\n",
       "      <td>Dulce Base serves as the operational hub for t...</td>\n",
       "      <td>[{'explanation': 'The Paranormal Military Squa...</td>\n",
       "      <td>{\\n    \"title\": \"Dulce Base and the Paranormal...</td>\n",
       "      <td>251df57e-fd49-49a7-b262-ccaff95d7a51</td>\n",
       "    </tr>\n",
       "    <tr>\n",
       "      <th>3</th>\n",
       "      <td>1</td>\n",
       "      <td># Dulce Base and the Paranormal Military Squad...</td>\n",
       "      <td>0</td>\n",
       "      <td>8.5</td>\n",
       "      <td>Dulce Base and the Paranormal Military Squad: ...</td>\n",
       "      <td>The impact severity rating is high due to the ...</td>\n",
       "      <td>The community is centered around Dulce Base, a...</td>\n",
       "      <td>[{'explanation': 'Sam Rivera is recognized for...</td>\n",
       "      <td>{\\n    \"title\": \"Dulce Base and the Paranormal...</td>\n",
       "      <td>6e536385-8056-4a82-8670-c0ccaf007fb4</td>\n",
       "    </tr>\n",
       "    <tr>\n",
       "      <th>4</th>\n",
       "      <td>2</td>\n",
       "      <td># Dulce Base: Extraterrestrial Research and Co...</td>\n",
       "      <td>0</td>\n",
       "      <td>8.5</td>\n",
       "      <td>Dulce Base: Extraterrestrial Research and Comm...</td>\n",
       "      <td>The impact severity rating is high due to the ...</td>\n",
       "      <td>Dulce Base is a highly classified facility in ...</td>\n",
       "      <td>[{'explanation': 'Dulce Base is the epicenter ...</td>\n",
       "      <td>{\\n    \"title\": \"Dulce Base: Extraterrestrial ...</td>\n",
       "      <td>660c8fba-b65f-4fcd-9c98-203600cf1981</td>\n",
       "    </tr>\n",
       "  </tbody>\n",
       "</table>\n",
       "</div>"
      ],
      "text/plain": [
       "  community                                       full_content  level  rank  \\\n",
       "0         4  # Dulce Base and the Paranormal Military Squad...      1   8.5   \n",
       "1         5  # Sam Rivera and the Paranormal Military Squad...      1   7.5   \n",
       "2         0  # Dulce Base and the Paranormal Military Squad...      0   8.5   \n",
       "3         1  # Dulce Base and the Paranormal Military Squad...      0   8.5   \n",
       "4         2  # Dulce Base: Extraterrestrial Research and Co...      0   8.5   \n",
       "\n",
       "                                               title  \\\n",
       "0  Dulce Base and the Paranormal Military Squad: ...   \n",
       "1  Sam Rivera and the Paranormal Military Squad a...   \n",
       "2  Dulce Base and the Paranormal Military Squad Team   \n",
       "3  Dulce Base and the Paranormal Military Squad: ...   \n",
       "4  Dulce Base: Extraterrestrial Research and Comm...   \n",
       "\n",
       "                                    rank_explanation  \\\n",
       "0  The impact severity rating is high due to the ...   \n",
       "1  The impact severity rating is high due to the ...   \n",
       "2  The impact severity rating is high due to the ...   \n",
       "3  The impact severity rating is high due to the ...   \n",
       "4  The impact severity rating is high due to the ...   \n",
       "\n",
       "                                             summary  \\\n",
       "0  The community is centered around Dulce Base, a...   \n",
       "1  The community is centered around Sam Rivera, a...   \n",
       "2  Dulce Base serves as the operational hub for t...   \n",
       "3  The community is centered around Dulce Base, a...   \n",
       "4  Dulce Base is a highly classified facility in ...   \n",
       "\n",
       "                                            findings  \\\n",
       "0  [{'explanation': 'Dulce Base is the primary lo...   \n",
       "1  [{'explanation': 'Sam Rivera is recognized for...   \n",
       "2  [{'explanation': 'The Paranormal Military Squa...   \n",
       "3  [{'explanation': 'Sam Rivera is recognized for...   \n",
       "4  [{'explanation': 'Dulce Base is the epicenter ...   \n",
       "\n",
       "                                   full_content_json  \\\n",
       "0  {\\n    \"title\": \"Dulce Base and the Paranormal...   \n",
       "1  {\\n    \"title\": \"Sam Rivera and the Paranormal...   \n",
       "2  {\\n    \"title\": \"Dulce Base and the Paranormal...   \n",
       "3  {\\n    \"title\": \"Dulce Base and the Paranormal...   \n",
       "4  {\\n    \"title\": \"Dulce Base: Extraterrestrial ...   \n",
       "\n",
       "                                     id  \n",
       "0  6f8ba6b6-506e-46c1-83ce-982d59622554  \n",
       "1  418f4536-d673-4212-8a7c-ca1aac547d0f  \n",
       "2  251df57e-fd49-49a7-b262-ccaff95d7a51  \n",
       "3  6e536385-8056-4a82-8670-c0ccaf007fb4  \n",
       "4  660c8fba-b65f-4fcd-9c98-203600cf1981  "
      ]
     },
     "execution_count": 4,
     "metadata": {},
     "output_type": "execute_result"
    }
   ],
   "source": [
    "# parquet files generated from indexing pipeline\n",
    "INPUT_DIR = \"./inputs/operation dulce\"\n",
    "COMMUNITY_TABLE = \"create_final_communities\"\n",
    "COMMUNITY_REPORT_TABLE = \"create_final_community_reports\"\n",
    "ENTITY_TABLE = \"create_final_nodes\"\n",
    "ENTITY_EMBEDDING_TABLE = \"create_final_entities\"\n",
    "\n",
    "community_df = pd.read_parquet(f\"{INPUT_DIR}/{COMMUNITY_TABLE}.parquet\")\n",
    "entity_df = pd.read_parquet(f\"{INPUT_DIR}/{ENTITY_TABLE}.parquet\")\n",
    "report_df = pd.read_parquet(f\"{INPUT_DIR}/{COMMUNITY_REPORT_TABLE}.parquet\")\n",
    "entity_embedding_df = pd.read_parquet(f\"{INPUT_DIR}/{ENTITY_EMBEDDING_TABLE}.parquet\")\n",
    "\n",
    "report_df.head()"
   ]
  },
  {
   "cell_type": "markdown",
   "metadata": {},
   "source": [
    "### GlobalSearch class setting\n",
    "\n",
    "The same settings are used in both fixed and dynamic community selection"
   ]
  },
  {
   "cell_type": "code",
   "execution_count": 5,
   "metadata": {},
   "outputs": [],
   "source": [
    "context_builder_params = {\n",
    "    \"use_community_summary\": False,  # False means using full community reports. True means using community short summaries.\n",
    "    \"shuffle_data\": True,\n",
    "    \"include_community_rank\": True,\n",
    "    \"min_community_rank\": 0,\n",
    "    \"community_rank_name\": \"rank\",\n",
    "    \"include_community_weight\": True,\n",
    "    \"community_weight_name\": \"occurrence weight\",\n",
    "    \"normalize_community_weight\": True,\n",
    "    \"max_tokens\": 12_000,  # change this based on the token limit you have on your model (if you are using a model with 8k limit, a good setting could be 5000)\n",
    "    \"context_name\": \"Reports\",\n",
    "}\n",
    "\n",
    "map_llm_params = {\n",
    "    \"max_tokens\": 1000,\n",
    "    \"temperature\": 0.0,\n",
    "    \"response_format\": {\"type\": \"json_object\"},\n",
    "}\n",
    "\n",
    "reduce_llm_params = {\n",
    "    \"max_tokens\": 2000,  # change this based on the token limit you have on your model (if you are using a model with 8k limit, a good setting could be 1000-1500)\n",
    "    \"temperature\": 0.0,\n",
    "}\n",
    "\n",
    "global_search_params = {\n",
    "    \"llm\": llm,\n",
    "    \"token_encoder\": token_encoder,\n",
    "    \"max_data_tokens\": 12_000,  # change this based on the token limit you have on your model (if you are using a model with 8k limit, a good setting could be 5000)\n",
    "    \"map_llm_params\": map_llm_params,\n",
    "    \"reduce_llm_params\": reduce_llm_params,\n",
    "    \"allow_general_knowledge\": False,  # set this to True will add instruction to encourage the LLM to incorporate general knowledge in the response, which may increase hallucinations, but could be useful in some use cases.\n",
    "    \"json_mode\": True,  # set this to False if your LLM model does not support JSON mode.\n",
    "    \"context_builder_params\": context_builder_params,\n",
    "    \"concurrent_coroutines\": 32,\n",
    "    \"response_type\": \"multiple paragraphs\",  # free form text describing the response type and format, can be anything, e.g. prioritized list, single paragraph, multiple paragraphs, multiple-page report\n",
    "}"
   ]
  },
  {
   "cell_type": "markdown",
   "metadata": {},
   "source": [
    "### Global search with fixed community selection \n",
    "\n",
    "Community level in the Leiden community hierarchy from which we will load the community reports.\n",
    "\n",
    "A higher value means we use reports from more fine-grained communities (at the cost of higher computation cost)."
   ]
  },
  {
   "cell_type": "code",
   "execution_count": 6,
   "metadata": {},
   "outputs": [
    {
     "name": "stdout",
     "output_type": "stream",
     "text": [
      "Total report count: 6\n",
      "Report count after filtering by community level 2: 5\n"
     ]
    }
   ],
   "source": [
    "# community level in the Leiden community hierarchy from which we will load the community reports\n",
    "# higher value means we use reports from more fine-grained communities (at the cost of higher computation cost)\n",
    "COMMUNITY_LEVEL, DYNAMIC_SELECTION = 2, False\n",
    "\n",
    "communities = read_indexer_communities(community_df, entity_df)\n",
    "reports = read_indexer_reports(report_df, entity_df, COMMUNITY_LEVEL, DYNAMIC_SELECTION)\n",
    "entities = read_indexer_entities(entity_df, entity_embedding_df, COMMUNITY_LEVEL)\n",
    "\n",
    "print(f\"Total report count: {len(report_df)}\")\n",
    "print(\n",
    "    f\"Report count after filtering by community level {COMMUNITY_LEVEL}: {len(reports)}\"\n",
    ")"
   ]
  },
  {
   "cell_type": "markdown",
   "metadata": {},
   "source": [
    "#### Build global context based on community reports"
   ]
  },
  {
   "cell_type": "code",
   "execution_count": 7,
   "metadata": {},
   "outputs": [],
   "source": [
    "fixed_context_builder = GlobalCommunityContext(\n",
    "    community_reports=reports,\n",
    "    communities=communities,\n",
    "    llm=llm,\n",
    "    token_encoder=token_encoder,\n",
    "    entities=entities,  # default to None if you don't want to use community weights for ranking\n",
    "    dynamic_selection=DYNAMIC_SELECTION,\n",
    ")"
   ]
  },
  {
   "cell_type": "markdown",
   "metadata": {},
   "source": [
    "#### Perform global search with fixed communities"
   ]
  },
  {
   "cell_type": "code",
   "execution_count": 8,
   "metadata": {},
   "outputs": [],
   "source": [
    "search_engine = GlobalSearch(\n",
    "    context_builder=fixed_context_builder,\n",
    "    **global_search_params,\n",
    ")"
   ]
  },
  {
   "cell_type": "code",
   "execution_count": 9,
   "metadata": {},
   "outputs": [
    {
     "name": "stdout",
     "output_type": "stream",
     "text": [
      "### Major Conflict\n",
      "\n",
      "The central conflict in the story revolves around the Paranormal Military Squad's mission to establish contact with extraterrestrial intelligence. This involves several complex tasks such as deciphering alien signals, developing effective communication methods, and managing the potential risks and implications of such contact. The squad faces numerous challenges and uncertainties in their efforts to understand and interact with the alien entities [Data: Reports (4, 5, 2, 3, 0)].\n",
      "\n",
      "### Protagonist\n",
      "\n",
      "The protagonists of the story are the members of the Paranormal Military Squad. Key figures within this squad include Taylor Cruz, Dr. Jordan Hayes, Alex Mercer, and Sam Rivera. These characters are depicted as the central drivers of the mission, each contributing their unique skills and expertise to the overarching goal of establishing contact with extraterrestrial beings [Data: Reports (4, 5, 2, 3, 0)].\n",
      "\n",
      "### Antagonist\n",
      "\n",
      "The antagonist in the story is not a single entity but rather the unknown and potentially hostile nature of extraterrestrial intelligence. The primary antagonistic forces are the challenges and risks associated with deciphering alien signals and the uncertainty surrounding the intentions of the extraterrestrial beings. This pervasive sense of the unknown and the potential for danger creates a significant source of tension and conflict for the protagonists [Data: Reports (4, 5, 2, 3, 0)].\n",
      "\n",
      "In summary, the story's major conflict centers on the Paranormal Military Squad's efforts to communicate with extraterrestrial intelligence, with the protagonists being the squad members and the antagonist being the uncertain and potentially hostile nature of the extraterrestrial entities.\n"
     ]
    }
   ],
   "source": [
    "result = await search_engine.asearch(\n",
    "    \"What is the major conflict in this story and who are the protagonist and antagonist?\"\n",
    ")\n",
    "\n",
    "print(result.response)"
   ]
  },
  {
   "cell_type": "code",
   "execution_count": 10,
   "metadata": {},
   "outputs": [
    {
     "data": {
      "text/html": [
       "<div>\n",
       "<style scoped>\n",
       "    .dataframe tbody tr th:only-of-type {\n",
       "        vertical-align: middle;\n",
       "    }\n",
       "\n",
       "    .dataframe tbody tr th {\n",
       "        vertical-align: top;\n",
       "    }\n",
       "\n",
       "    .dataframe thead th {\n",
       "        text-align: right;\n",
       "    }\n",
       "</style>\n",
       "<table border=\"1\" class=\"dataframe\">\n",
       "  <thead>\n",
       "    <tr style=\"text-align: right;\">\n",
       "      <th></th>\n",
       "      <th>id</th>\n",
       "      <th>title</th>\n",
       "      <th>occurrence weight</th>\n",
       "      <th>content</th>\n",
       "      <th>rank</th>\n",
       "    </tr>\n",
       "  </thead>\n",
       "  <tbody>\n",
       "    <tr>\n",
       "      <th>0</th>\n",
       "      <td>4</td>\n",
       "      <td>Dulce Base and the Paranormal Military Squad: ...</td>\n",
       "      <td>1.000000</td>\n",
       "      <td># Dulce Base and the Paranormal Military Squad...</td>\n",
       "      <td>8.5</td>\n",
       "    </tr>\n",
       "    <tr>\n",
       "      <th>1</th>\n",
       "      <td>5</td>\n",
       "      <td>Sam Rivera and the Paranormal Military Squad a...</td>\n",
       "      <td>1.000000</td>\n",
       "      <td># Sam Rivera and the Paranormal Military Squad...</td>\n",
       "      <td>7.5</td>\n",
       "    </tr>\n",
       "    <tr>\n",
       "      <th>2</th>\n",
       "      <td>2</td>\n",
       "      <td>Dulce Base: Extraterrestrial Research and Comm...</td>\n",
       "      <td>0.750000</td>\n",
       "      <td># Dulce Base: Extraterrestrial Research and Co...</td>\n",
       "      <td>8.5</td>\n",
       "    </tr>\n",
       "    <tr>\n",
       "      <th>3</th>\n",
       "      <td>3</td>\n",
       "      <td>Operation: Dulce and the Paranormal Military S...</td>\n",
       "      <td>0.583333</td>\n",
       "      <td># Operation: Dulce and the Paranormal Military...</td>\n",
       "      <td>8.5</td>\n",
       "    </tr>\n",
       "    <tr>\n",
       "      <th>4</th>\n",
       "      <td>0</td>\n",
       "      <td>Dulce Base and the Paranormal Military Squad Team</td>\n",
       "      <td>0.416667</td>\n",
       "      <td># Dulce Base and the Paranormal Military Squad...</td>\n",
       "      <td>8.5</td>\n",
       "    </tr>\n",
       "  </tbody>\n",
       "</table>\n",
       "</div>"
      ],
      "text/plain": [
       "  id                                              title  occurrence weight  \\\n",
       "0  4  Dulce Base and the Paranormal Military Squad: ...           1.000000   \n",
       "1  5  Sam Rivera and the Paranormal Military Squad a...           1.000000   \n",
       "2  2  Dulce Base: Extraterrestrial Research and Comm...           0.750000   \n",
       "3  3  Operation: Dulce and the Paranormal Military S...           0.583333   \n",
       "4  0  Dulce Base and the Paranormal Military Squad Team           0.416667   \n",
       "\n",
       "                                             content  rank  \n",
       "0  # Dulce Base and the Paranormal Military Squad...   8.5  \n",
       "1  # Sam Rivera and the Paranormal Military Squad...   7.5  \n",
       "2  # Dulce Base: Extraterrestrial Research and Co...   8.5  \n",
       "3  # Operation: Dulce and the Paranormal Military...   8.5  \n",
       "4  # Dulce Base and the Paranormal Military Squad...   8.5  "
      ]
     },
     "execution_count": 10,
     "metadata": {},
     "output_type": "execute_result"
    }
   ],
   "source": [
    "# inspect the data used to build the context for the LLM responses\n",
    "result.context_data[\"reports\"]"
   ]
  },
  {
   "cell_type": "code",
   "execution_count": 11,
   "metadata": {},
   "outputs": [
    {
     "name": "stdout",
     "output_type": "stream",
     "text": [
      "LLM calls: 2, prompt tokens: 5186, output tokens: 593.\n"
     ]
    }
   ],
   "source": [
    "# inspect number of LLM calls and tokens\n",
    "print(\n",
    "    f\"LLM calls: {result.llm_calls}, prompt tokens: {result.prompt_tokens}, output tokens: {result.output_tokens}.\"\n",
    ")"
   ]
  },
  {
   "cell_type": "markdown",
   "metadata": {},
   "source": [
    "### Global search with dynamic community selection \n",
    "\n",
    "Here, we utilize the hierachical structure of the indexed dataset. We first ask the LLM to rate how relevant each level 0 community is with respect to the user query, we then traverse down the child node(s) if the current community report is deemed relevant. While this operation increase the number of prompt tokens, it significantly reduce the overall output tokens. \n",
    "\n",
    "You can still set a `COMMUNITY_LEVEL` to filter out lower level community reports and apply dynamic community selection on the filtered reports.\n",
    "\n",
    "Note that the dataset is quite small, with only consist of 6 communities from 2 levels (level 0 and 1). Dynamic community selection is more effective when there are large amount of content to be filtered out."
   ]
  },
  {
   "cell_type": "code",
   "execution_count": 12,
   "metadata": {},
   "outputs": [
    {
     "name": "stdout",
     "output_type": "stream",
     "text": [
      "Total report count: 6\n",
      "Report count after filtering by community level None: 6\n"
     ]
    }
   ],
   "source": [
    "# set COMMUNITY_LEVEL to None to use all reports\n",
    "COMMUNITY_LEVEL, DYNAMIC_SELECTION = None, True\n",
    "\n",
    "communities = read_indexer_communities(community_df, entity_df)\n",
    "reports = read_indexer_reports(report_df, entity_df, COMMUNITY_LEVEL, DYNAMIC_SELECTION)\n",
    "entities = read_indexer_entities(entity_df, entity_embedding_df, COMMUNITY_LEVEL)\n",
    "\n",
    "print(f\"Total report count: {len(report_df)}\")\n",
    "print(\n",
    "    f\"Report count after filtering by community level {COMMUNITY_LEVEL}: {len(reports)}\"\n",
    ")"
   ]
  },
  {
   "cell_type": "markdown",
   "metadata": {},
   "source": [
    "#### Global search with dynamic communities"
   ]
  },
  {
   "cell_type": "code",
   "execution_count": 13,
   "metadata": {},
   "outputs": [],
   "source": [
    "dynamic_context_builder = GlobalCommunityContext(\n",
    "    community_reports=reports,\n",
    "    communities=communities,\n",
    "    llm=llm,\n",
    "    token_encoder=token_encoder,\n",
    "    entities=entities,\n",
    "    dynamic_selection=DYNAMIC_SELECTION,  # set dynamic selection to True to enable dynamic community selection\n",
    ")\n",
    "\n",
    "search_engine = GlobalSearch(\n",
    "    context_builder=dynamic_context_builder,\n",
    "    **global_search_params,\n",
    ")"
   ]
  },
  {
   "cell_type": "code",
   "execution_count": 14,
   "metadata": {},
   "outputs": [
    {
     "name": "stdout",
     "output_type": "stream",
     "text": [
      "### Major Conflict\n",
      "\n",
      "The central conflict in the story revolves around the Paranormal Military Squad's mission to establish communication with extraterrestrial intelligence. This involves several complex tasks such as deciphering alien signals, developing advanced communication devices, and potentially making humanity's first contact with extraterrestrial beings. The conflict is characterized by the numerous challenges and uncertainties inherent in interstellar communication, as well as the profound implications that such contact may have for humanity [Data: Reports (4, 5)].\n",
      "\n",
      "### Protagonist\n",
      "\n",
      "The protagonists in the story are members of the Paranormal Military Squad. Key figures within this team include Taylor Cruz, Dr. Jordan Hayes, Alex Mercer, and Sam Rivera. Each of these individuals brings unique skills and expertise to the mission, playing crucial roles in the efforts to communicate with extraterrestrial intelligence [Data: Reports (4, 5)].\n",
      "\n",
      "### Antagonist\n",
      "\n",
      "There is no clear antagonist in the traditional sense within the provided data. Instead, the primary source of conflict stems from the inherent challenges and unknowns associated with interstellar communication. The potential risks and uncertainties of engaging with extraterrestrial intelligence serve as the main obstacles the protagonists must overcome [Data: Reports (4, 5)].\n",
      "\n",
      "In summary, the story's conflict is driven by the daunting task of interstellar communication, with the Paranormal Military Squad acting as the protagonists. The lack of a traditional antagonist highlights the narrative's focus on the challenges and risks of this unprecedented mission.\n"
     ]
    }
   ],
   "source": [
    "result = await search_engine.asearch(\n",
    "    \"What is the major conflict in this story and who are the protagonist and antagonist?\"\n",
    ")\n",
    "\n",
    "print(result.response)"
   ]
  },
  {
   "cell_type": "code",
   "execution_count": 15,
   "metadata": {},
   "outputs": [
    {
     "name": "stdout",
     "output_type": "stream",
     "text": [
      "LLM calls: 5, prompt tokens: 5612, output tokens: 554.\n"
     ]
    }
   ],
   "source": [
    "print(\n",
    "    f\"LLM calls: {result.llm_calls}, prompt tokens: {result.prompt_tokens}, output tokens: {result.output_tokens}.\"\n",
    ")"
   ]
  }
 ],
 "metadata": {
  "kernelspec": {
   "display_name": "Python 3 (ipykernel)",
   "language": "python",
   "name": "python3"
  },
  "language_info": {
   "codemirror_mode": {
    "name": "ipython",
    "version": 3
   },
   "file_extension": ".py",
   "mimetype": "text/x-python",
   "name": "python",
   "nbconvert_exporter": "python",
   "pygments_lexer": "ipython3",
   "version": "3.12.5"
  }
 },
 "nbformat": 4,
 "nbformat_minor": 4
}
